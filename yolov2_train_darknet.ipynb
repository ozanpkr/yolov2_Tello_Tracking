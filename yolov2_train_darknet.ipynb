{
 "cells": [
  {
   "cell_type": "code",
   "execution_count": null,
   "metadata": {
    "id": "yK8UdprRYE81"
   },
   "outputs": [],
   "source": [
    "!apt-get update\n",
    "!apt-get upgrade"
   ]
  },
  {
   "cell_type": "code",
   "execution_count": null,
   "metadata": {
    "id": "kBKlzBoCYzgo"
   },
   "outputs": [],
   "source": [
    "!apt-get install build-essential\n",
    "!apt-get install cmake git libgtk2.0-dev pkg-config libavcodec-dev libavformat-dev libswscale-dev"
   ]
  },
  {
   "cell_type": "code",
   "execution_count": null,
   "metadata": {
    "id": "zae3hk2VZm-r"
   },
   "outputs": [],
   "source": [
    "!apt-get install libavcodec-dev libavformat-dev libswscale-d"
   ]
  },
  {
   "cell_type": "code",
   "execution_count": null,
   "metadata": {
    "id": "aPuW6Lk7Zrv_"
   },
   "outputs": [],
   "source": [
    "!apt-get -y install cmake\n",
    "!which cmake\n",
    "\n",
    "!cmake --version"
   ]
  },
  {
   "cell_type": "code",
   "execution_count": null,
   "metadata": {
    "id": "NQhmk_N1rpBl"
   },
   "outputs": [],
   "source": [
    "!apt-get install libopencv-dev"
   ]
  },
  {
   "cell_type": "code",
   "execution_count": null,
   "metadata": {
    "id": "Q8gCXSX5Zsll"
   },
   "outputs": [],
   "source": [
    "!git clone https://github.com/AlexeyAB/darknet/"
   ]
  },
  {
   "cell_type": "code",
   "execution_count": null,
   "metadata": {
    "id": "AeeFXM8jaGhy"
   },
   "outputs": [],
   "source": [
    "!apt-get install vim"
   ]
  },
  {
   "cell_type": "code",
   "execution_count": null,
   "metadata": {
    "id": "7N6AO18HaR2f"
   },
   "outputs": [],
   "source": [
    "%cd /content/darknet"
   ]
  },
  {
   "cell_type": "code",
   "execution_count": null,
   "metadata": {
    "id": "udjeaLDrEvGc"
   },
   "outputs": [],
   "source": [
    "from google.colab import drive\n",
    "drive.mount('/content/drive')"
   ]
  },
  {
   "cell_type": "code",
   "execution_count": null,
   "metadata": {
    "id": "89sNUACeah0z"
   },
   "outputs": [],
   "source": [
    "#No here we're modifying the makefile to set OPENCV and GPU to 1\n",
    "!ls\n",
    "!sed -i 's/OPENCV=0/OPENCV=1/g' Makefile\n",
    "!sed -i 's/GPU=0/GPU=1/g' Makefile"
   ]
  },
  {
   "cell_type": "code",
   "execution_count": null,
   "metadata": {
    "id": "GRACEgd_a7_i"
   },
   "outputs": [],
   "source": [
    "#Going to the parent directory\n",
    "!ls\n",
    "%cd ../\n",
    "!ls"
   ]
  },
  {
   "cell_type": "code",
   "execution_count": null,
   "metadata": {
    "id": "uWx5-AkZCpYF"
   },
   "outputs": [],
   "source": [
    "!apt install g++-5\n",
    "!apt install gcc-5"
   ]
  },
  {
   "cell_type": "code",
   "execution_count": null,
   "metadata": {},
   "outputs": [],
   "source": [
    "!update-alternatives --install /usr/bin/gcc gcc /usr/bin/gcc-5 10\n",
    "!update-alternatives --install /usr/bin/gcc gcc /usr/bin/gcc-5 20\n",
    "!update-alternatives --install /usr/bin/g++ g++ /usr/bin/g++-5 10\n",
    "!update-alternatives --install /usr/bin/g++ g++ /usr/bin/g++-5 20\n",
    "!update-alternatives --install /usr/bin/cc cc /usr/bin/gcc 30\n",
    "!update-alternatives --set cc /usr/bin/gcc\n",
    "!update-alternatives --install /usr/bin/c++ c++ /usr/bin/g++ 30\n",
    "!update-alternatives --set c++ /usr/bin/g++"
   ]
  },
  {
   "cell_type": "code",
   "execution_count": null,
   "metadata": {
    "id": "zc4VUzU7bAC1"
   },
   "outputs": [],
   "source": [
    "!apt update -qq;\n",
    "!wget https://developer.nvidia.com/compute/cuda/8.0/Prod2/local_installers/cuda-repo-ubuntu1604-8-0-local-ga2_8.0.61-1_amd64-deb\n",
    "!dpkg -i cuda-repo-ubuntu1604-8-0-local-ga2_8.0.61-1_amd64-deb\n",
    "!apt-get update -qq\n",
    "!apt-get install cuda -y -qq #gcc-5 g++-5 \n",
    "!apt update\n",
    "!apt upgrade\n",
    "!apt install cuda-8.0 -y"
   ]
  },
  {
   "cell_type": "code",
   "execution_count": null,
   "metadata": {
    "id": "aS1RVY_RbRmT"
   },
   "outputs": [],
   "source": [
    "import tensorflow as tf\n",
    "device_name = tf.test.gpu_device_name()\n",
    "print(device_name)\n",
    "print(\"'Everything Fine!'\")"
   ]
  },
  {
   "cell_type": "code",
   "execution_count": null,
   "metadata": {},
   "outputs": [],
   "source": [
    "!/usr/local/cuda/bin/nvcc --version"
   ]
  },
  {
   "cell_type": "code",
   "execution_count": null,
   "metadata": {
    "id": "xOSlmCzibg7v"
   },
   "outputs": [],
   "source": [
    "%cd darknet\n",
    "!make"
   ]
  },
  {
   "cell_type": "code",
   "execution_count": null,
   "metadata": {
    "id": "mCR6jMQwoqJ0"
   },
   "outputs": [],
   "source": [
    "%cd data\n",
    "!ls"
   ]
  },
  {
   "cell_type": "code",
   "execution_count": null,
   "metadata": {
    "id": "4S3lM8Qr9LFe"
   },
   "outputs": [],
   "source": [
    "!unzip /content/drive/'My Drive'/ozi/darknet.zip#unzip data"
   ]
  },
  {
   "cell_type": "code",
   "execution_count": null,
   "metadata": {
    "id": "qTG_JQc4pAjB"
   },
   "outputs": [],
   "source": [
    "%cd /content/darknet\n",
    "!ls"
   ]
  },
  {
   "cell_type": "code",
   "execution_count": null,
   "metadata": {
    "id": "KYNrOtfl1RQe"
   },
   "outputs": [],
   "source": [
    "!./darknet detector calc_anchors data/obj.data -num_of_clusters 5 -width 416 -height 416 #calculate best anchors for custom dataset"
   ]
  },
  {
   "cell_type": "code",
   "execution_count": null,
   "metadata": {
    "id": "FUC1XoTUFHme"
   },
   "outputs": [],
   "source": [
    "%cd /content/darknet"
   ]
  },
  {
   "cell_type": "code",
   "execution_count": null,
   "metadata": {
    "id": "C2Ay9kJEypGy"
   },
   "outputs": [],
   "source": [
    "!wget https://pjreddie.com/media/files/darknet19_448.conv.23#get pretrained weights\n",
    "!ls"
   ]
  },
  {
   "cell_type": "code",
   "execution_count": null,
   "metadata": {
    "id": "g7rdKdooGJDU"
   },
   "outputs": [],
   "source": [
    "!./darknet detector train data/obj.data cfg/yolov2-custom-ozan.cfg /content/darknet/backup/yolov2-custom-ozan_best.weights -dont_show -map #train step"
   ]
  },
  {
   "cell_type": "code",
   "execution_count": null,
   "metadata": {
    "id": "gOwMjijsZ-PB"
   },
   "outputs": [],
   "source": [
    "#!./darknet detector test data/obj.data cfg/yolov2-custom-ozan.cfg /content/darknet/backup/yolov2-custom-ozan_last.weights  -dont_show data/images.jpg #test with image\n",
    "!!./darknet detector demo data/obj.data cfg/yolov2-custom-ozan.cfg /content/darknet/backup/yolov2-custom-ozan_best.weights -dont_show /content/drive/'My Drive'/ozi/cinematic.mp4 -out_filename result.avi #test with video"
   ]
  },
  {
   "cell_type": "code",
   "execution_count": null,
   "metadata": {
    "id": "wfkwSYILjgWy"
   },
   "outputs": [],
   "source": [
    "!ffmpeg -i result.avi output2.mp4 #convert avi to mp4 format"
   ]
  }
 ],
 "metadata": {
  "accelerator": "GPU",
  "colab": {
   "name": "ozanyolov2train.ipynb",
   "provenance": []
  },
  "kernelspec": {
   "display_name": "Python 3",
   "language": "python",
   "name": "python3"
  },
  "language_info": {
   "codemirror_mode": {
    "name": "ipython",
    "version": 3
   },
   "file_extension": ".py",
   "mimetype": "text/x-python",
   "name": "python",
   "nbconvert_exporter": "python",
   "pygments_lexer": "ipython3",
   "version": "3.7.7"
  }
 },
 "nbformat": 4,
 "nbformat_minor": 1
}
